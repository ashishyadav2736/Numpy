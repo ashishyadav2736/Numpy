{
 "cells": [
  {
   "cell_type": "code",
   "execution_count": 1,
   "id": "6d502106",
   "metadata": {},
   "outputs": [],
   "source": [
    "# There is a 4X4 2D Array\n",
    "# access last 2 rows\n",
    "# access middle 2 rows\n",
    "# access 1st and last row\n",
    "# access 2nd and last row\n",
    "# access last 3 rows"
   ]
  },
  {
   "cell_type": "code",
   "execution_count": 2,
   "id": "b5013528",
   "metadata": {},
   "outputs": [],
   "source": [
    "import numpy as np"
   ]
  },
  {
   "cell_type": "code",
   "execution_count": 3,
   "id": "ed5b1f1d",
   "metadata": {},
   "outputs": [],
   "source": [
    "a = np.random.randn(4,4)"
   ]
  },
  {
   "cell_type": "code",
   "execution_count": 4,
   "id": "b1a77be4",
   "metadata": {},
   "outputs": [
    {
     "data": {
      "text/plain": [
       "array([[-0.26089987, -0.21310465, -0.37975959, -0.38514005],\n",
       "       [ 1.13582532,  2.26864913, -0.29117017,  0.54030497],\n",
       "       [ 0.18042065, -1.04127084,  0.00385593,  1.09281585],\n",
       "       [-1.11396058, -0.46089338, -0.9666144 , -0.72658954]])"
      ]
     },
     "execution_count": 4,
     "metadata": {},
     "output_type": "execute_result"
    }
   ],
   "source": [
    "a"
   ]
  },
  {
   "cell_type": "code",
   "execution_count": 5,
   "id": "43ec549f",
   "metadata": {},
   "outputs": [
    {
     "data": {
      "text/plain": [
       "array([[ 0.18042065, -1.04127084,  0.00385593,  1.09281585],\n",
       "       [-1.11396058, -0.46089338, -0.9666144 , -0.72658954]])"
      ]
     },
     "execution_count": 5,
     "metadata": {},
     "output_type": "execute_result"
    }
   ],
   "source": [
    "# access last 2 rows\n",
    "a[2:]"
   ]
  },
  {
   "cell_type": "code",
   "execution_count": 6,
   "id": "e80ea22d",
   "metadata": {},
   "outputs": [
    {
     "data": {
      "text/plain": [
       "array([[ 1.13582532,  2.26864913, -0.29117017,  0.54030497],\n",
       "       [ 0.18042065, -1.04127084,  0.00385593,  1.09281585]])"
      ]
     },
     "execution_count": 6,
     "metadata": {},
     "output_type": "execute_result"
    }
   ],
   "source": [
    "# access middle 2 rows\n",
    "a[1:3]"
   ]
  },
  {
   "cell_type": "code",
   "execution_count": 7,
   "id": "44e55fba",
   "metadata": {},
   "outputs": [
    {
     "data": {
      "text/plain": [
       "array([[-0.26089987, -0.21310465, -0.37975959, -0.38514005],\n",
       "       [-1.11396058, -0.46089338, -0.9666144 , -0.72658954]])"
      ]
     },
     "execution_count": 7,
     "metadata": {},
     "output_type": "execute_result"
    }
   ],
   "source": [
    "# access 1st and last row\n",
    "a[0::3]"
   ]
  },
  {
   "cell_type": "code",
   "execution_count": 8,
   "id": "31443dfe",
   "metadata": {},
   "outputs": [
    {
     "data": {
      "text/plain": [
       "array([[ 1.13582532,  2.26864913, -0.29117017,  0.54030497],\n",
       "       [-1.11396058, -0.46089338, -0.9666144 , -0.72658954]])"
      ]
     },
     "execution_count": 8,
     "metadata": {},
     "output_type": "execute_result"
    }
   ],
   "source": [
    "# access 2nd and last row\n",
    "a[1::2]"
   ]
  },
  {
   "cell_type": "code",
   "execution_count": 9,
   "id": "72c36608",
   "metadata": {},
   "outputs": [
    {
     "data": {
      "text/plain": [
       "array([[ 1.13582532,  2.26864913, -0.29117017,  0.54030497],\n",
       "       [ 0.18042065, -1.04127084,  0.00385593,  1.09281585],\n",
       "       [-1.11396058, -0.46089338, -0.9666144 , -0.72658954]])"
      ]
     },
     "execution_count": 9,
     "metadata": {},
     "output_type": "execute_result"
    }
   ],
   "source": [
    "# access last 3 rows\n",
    "a[1:]"
   ]
  },
  {
   "cell_type": "code",
   "execution_count": 10,
   "id": "f4e5f26b",
   "metadata": {},
   "outputs": [],
   "source": [
    "# access corner elements\n",
    "# access diagonal elements\n",
    "# access middle 2 columns and all rows\n",
    "# access last 2 rows and its first 2 values from each row"
   ]
  },
  {
   "cell_type": "code",
   "execution_count": 11,
   "id": "44139a93",
   "metadata": {},
   "outputs": [
    {
     "data": {
      "text/plain": [
       "array([[-0.26089987, -0.21310465, -0.37975959, -0.38514005],\n",
       "       [ 1.13582532,  2.26864913, -0.29117017,  0.54030497],\n",
       "       [ 0.18042065, -1.04127084,  0.00385593,  1.09281585],\n",
       "       [-1.11396058, -0.46089338, -0.9666144 , -0.72658954]])"
      ]
     },
     "execution_count": 11,
     "metadata": {},
     "output_type": "execute_result"
    }
   ],
   "source": [
    "a"
   ]
  },
  {
   "cell_type": "code",
   "execution_count": 12,
   "id": "b5594f3b",
   "metadata": {},
   "outputs": [
    {
     "data": {
      "text/plain": [
       "array([[-0.26089987, -0.38514005],\n",
       "       [-1.11396058, -0.72658954]])"
      ]
     },
     "execution_count": 12,
     "metadata": {},
     "output_type": "execute_result"
    }
   ],
   "source": [
    "# access corner elements\n",
    "a[0::3,0::3]"
   ]
  },
  {
   "cell_type": "code",
   "execution_count": 13,
   "id": "035e3af0",
   "metadata": {},
   "outputs": [
    {
     "name": "stdout",
     "output_type": "stream",
     "text": [
      "-0.2608998669159571\n",
      "2.2686491340696375\n",
      "0.0038559330826012502\n",
      "-0.726589538892293\n"
     ]
    }
   ],
   "source": [
    "# access diagonal elements\n",
    "for i in range(4):\n",
    "    print(a[i,i])"
   ]
  },
  {
   "cell_type": "code",
   "execution_count": 14,
   "id": "7bcc9cc7",
   "metadata": {},
   "outputs": [
    {
     "data": {
      "text/plain": [
       "array([[-0.21310465, -0.37975959],\n",
       "       [ 2.26864913, -0.29117017],\n",
       "       [-1.04127084,  0.00385593],\n",
       "       [-0.46089338, -0.9666144 ]])"
      ]
     },
     "execution_count": 14,
     "metadata": {},
     "output_type": "execute_result"
    }
   ],
   "source": [
    "# access middle 2 columns and all rows\n",
    "a[:,1:3]"
   ]
  },
  {
   "cell_type": "code",
   "execution_count": 15,
   "id": "b777a955",
   "metadata": {},
   "outputs": [
    {
     "data": {
      "text/plain": [
       "array([[ 0.18042065, -1.04127084],\n",
       "       [-1.11396058, -0.46089338]])"
      ]
     },
     "execution_count": 15,
     "metadata": {},
     "output_type": "execute_result"
    }
   ],
   "source": [
    "# access last 2 rows and its first 2 values from each row\n",
    "a[2:,:2]"
   ]
  },
  {
   "cell_type": "code",
   "execution_count": null,
   "id": "6fe4b977",
   "metadata": {},
   "outputs": [],
   "source": []
  }
 ],
 "metadata": {
  "kernelspec": {
   "display_name": "Python 3",
   "language": "python",
   "name": "python3"
  },
  "language_info": {
   "codemirror_mode": {
    "name": "ipython",
    "version": 3
   },
   "file_extension": ".py",
   "mimetype": "text/x-python",
   "name": "python",
   "nbconvert_exporter": "python",
   "pygments_lexer": "ipython3",
   "version": "3.9.0"
  }
 },
 "nbformat": 4,
 "nbformat_minor": 5
}
