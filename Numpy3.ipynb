{
 "cells": [
  {
   "cell_type": "markdown",
   "id": "14d42099",
   "metadata": {},
   "source": [
    "# Numpy3"
   ]
  },
  {
   "cell_type": "markdown",
   "id": "9729452b",
   "metadata": {},
   "source": [
    "## 1)Assignment\n",
    "## np.min\n",
    "## np.mean\n",
    "## np.sum"
   ]
  },
  {
   "cell_type": "code",
   "execution_count": 1,
   "id": "4e9fdbe2",
   "metadata": {},
   "outputs": [],
   "source": [
    "import numpy as np"
   ]
  },
  {
   "cell_type": "code",
   "execution_count": 2,
   "id": "ab3124d2",
   "metadata": {},
   "outputs": [
    {
     "data": {
      "text/plain": [
       "array([[ 1.8841606 , -1.15748318, -1.27033736, -1.32785245],\n",
       "       [ 0.04681295, -0.53534059, -0.31887713, -0.42928778],\n",
       "       [-0.59403076, -0.22432599,  1.14596339,  1.00624313]])"
      ]
     },
     "execution_count": 2,
     "metadata": {},
     "output_type": "execute_result"
    }
   ],
   "source": [
    "a = np.random.randn(3,4)\n",
    "a"
   ]
  },
  {
   "cell_type": "code",
   "execution_count": 3,
   "id": "0206c905",
   "metadata": {},
   "outputs": [
    {
     "data": {
      "text/plain": [
       "array([-1.32785245, -0.53534059, -0.59403076])"
      ]
     },
     "execution_count": 3,
     "metadata": {},
     "output_type": "execute_result"
    }
   ],
   "source": [
    "np.min(a,axis=1)"
   ]
  },
  {
   "cell_type": "code",
   "execution_count": 4,
   "id": "3c665146",
   "metadata": {},
   "outputs": [
    {
     "data": {
      "text/plain": [
       "array([-0.4678781 , -0.30917314,  0.33346244])"
      ]
     },
     "execution_count": 4,
     "metadata": {},
     "output_type": "execute_result"
    }
   ],
   "source": [
    "np.mean(a,axis=1)"
   ]
  },
  {
   "cell_type": "code",
   "execution_count": 5,
   "id": "8dd10c19",
   "metadata": {},
   "outputs": [
    {
     "data": {
      "text/plain": [
       "array([-1.87151239, -1.23669255,  1.33384978])"
      ]
     },
     "execution_count": 5,
     "metadata": {},
     "output_type": "execute_result"
    }
   ],
   "source": [
    "np.sum(a,axis=1)"
   ]
  },
  {
   "cell_type": "markdown",
   "id": "4bdd16e1",
   "metadata": {},
   "source": [
    "## 2) Add -2 in each row of a"
   ]
  },
  {
   "cell_type": "code",
   "execution_count": 6,
   "id": "18586266",
   "metadata": {},
   "outputs": [
    {
     "data": {
      "text/plain": [
       "array([[ 1.8841606 , -1.15748318, -1.27033736, -1.32785245],\n",
       "       [ 0.04681295, -0.53534059, -0.31887713, -0.42928778],\n",
       "       [-0.59403076, -0.22432599,  1.14596339,  1.00624313]])"
      ]
     },
     "execution_count": 6,
     "metadata": {},
     "output_type": "execute_result"
    }
   ],
   "source": [
    "a"
   ]
  },
  {
   "cell_type": "code",
   "execution_count": 7,
   "id": "42d8c396",
   "metadata": {},
   "outputs": [
    {
     "data": {
      "text/plain": [
       "array([[ 1.8841606 , -1.15748318, -1.27033736, -1.32785245, -2.        ],\n",
       "       [ 0.04681295, -0.53534059, -0.31887713, -0.42928778, -2.        ],\n",
       "       [-0.59403076, -0.22432599,  1.14596339,  1.00624313, -2.        ]])"
      ]
     },
     "execution_count": 7,
     "metadata": {},
     "output_type": "execute_result"
    }
   ],
   "source": [
    "# Method 1\n",
    "np.append(a,[[-2],[-2],[-2]],axis=1)"
   ]
  },
  {
   "cell_type": "code",
   "execution_count": 8,
   "id": "61b80133",
   "metadata": {},
   "outputs": [
    {
     "data": {
      "text/plain": [
       "array([[ 1.8841606 , -1.15748318, -1.27033736, -1.32785245, -2.        ],\n",
       "       [ 0.04681295, -0.53534059, -0.31887713, -0.42928778, -2.        ],\n",
       "       [-0.59403076, -0.22432599,  1.14596339,  1.00624313, -2.        ]])"
      ]
     },
     "execution_count": 8,
     "metadata": {},
     "output_type": "execute_result"
    }
   ],
   "source": [
    "# Method 2\n",
    "np.append(a,np.array([[-2],[-2],[-2]]),axis=1)"
   ]
  },
  {
   "cell_type": "code",
   "execution_count": 9,
   "id": "1085abe1",
   "metadata": {},
   "outputs": [
    {
     "data": {
      "text/plain": [
       "array([[ 1.8841606 , -1.15748318, -1.27033736, -1.32785245, -2.        ],\n",
       "       [ 0.04681295, -0.53534059, -0.31887713, -0.42928778, -2.        ],\n",
       "       [-0.59403076, -0.22432599,  1.14596339,  1.00624313, -2.        ]])"
      ]
     },
     "execution_count": 9,
     "metadata": {},
     "output_type": "execute_result"
    }
   ],
   "source": [
    "# Method 3\n",
    "np.append(a,np.full((3,1),-2),axis=1)"
   ]
  },
  {
   "cell_type": "code",
   "execution_count": 10,
   "id": "8d0594ff",
   "metadata": {},
   "outputs": [
    {
     "data": {
      "text/plain": [
       "array([[-2],\n",
       "       [-2],\n",
       "       [-2]])"
      ]
     },
     "execution_count": 10,
     "metadata": {},
     "output_type": "execute_result"
    }
   ],
   "source": [
    "np.full((3,1),-2)"
   ]
  }
 ],
 "metadata": {
  "kernelspec": {
   "display_name": "Python 3",
   "language": "python",
   "name": "python3"
  },
  "language_info": {
   "codemirror_mode": {
    "name": "ipython",
    "version": 3
   },
   "file_extension": ".py",
   "mimetype": "text/x-python",
   "name": "python",
   "nbconvert_exporter": "python",
   "pygments_lexer": "ipython3",
   "version": "3.9.0"
  }
 },
 "nbformat": 4,
 "nbformat_minor": 5
}
